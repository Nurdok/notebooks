{
 "cells": [
  {
   "cell_type": "markdown",
   "metadata": {
    "slideshow": {
     "slide_type": "slide"
    }
   },
   "source": [
    "# asyncio\n",
    "\n",
    "Amir Rachum  \n",
    "PyWeb-IL #TBD"
   ]
  },
  {
   "cell_type": "markdown",
   "metadata": {
    "slideshow": {
     "slide_type": "slide"
    }
   },
   "source": [
    "# Motivation\n",
    "\n",
    "- Knock knock!\n",
    "- Who's there?\n",
    "- Race condition.\n",
    "\n",
    "\\#theworstkind"
   ]
  },
  {
   "cell_type": "markdown",
   "metadata": {
    "slideshow": {
     "slide_type": "slide"
    }
   },
   "source": [
    "# Motivation\n",
    "\n",
    "* Manage locks\n",
    "* Race conditions\n",
    "* Deadlocks\n",
    "* Thread-safe types  \n",
    "… it’s hard."
   ]
  },
  {
   "cell_type": "markdown",
   "metadata": {
    "slideshow": {
     "slide_type": "slide"
    }
   },
   "source": [
    "# Domain\n",
    "\n",
    "Multiple tasks, I/O intensive\n",
    "\n",
    "* Networking (sockets)\n",
    "* File system, pipes (Unix)"
   ]
  },
  {
   "cell_type": "markdown",
   "metadata": {
    "slideshow": {
     "slide_type": "slide"
    }
   },
   "source": [
    "# Goal\n",
    "\n",
    "## *Execute multiple I/O operations in the same thread*"
   ]
  },
  {
   "cell_type": "code",
   "execution_count": null,
   "metadata": {
    "collapsed": false,
    "slideshow": {
     "slide_type": "fragment"
    }
   },
   "outputs": [],
   "source": [
    "import socket\n",
    "\n",
    "sock = socket.create_connection(('localhost', 4200))\n",
    "sock.sendall(\"Hello, Socket!\")  # <== This is blocking!"
   ]
  },
  {
   "cell_type": "markdown",
   "metadata": {
    "slideshow": {
     "slide_type": "slide"
    }
   },
   "source": [
    "# Syscall Magic"
   ]
  },
  {
   "cell_type": "code",
   "execution_count": null,
   "metadata": {
    "collapsed": true,
    "slideshow": {
     "slide_type": "fragment"
    }
   },
   "outputs": [],
   "source": [
    "select.select(rlist, wlist, xlist, timeout)"
   ]
  },
  {
   "cell_type": "markdown",
   "metadata": {
    "slideshow": {
     "slide_type": "slide"
    }
   },
   "source": [
    "# Using `select`"
   ]
  },
  {
   "cell_type": "code",
   "execution_count": null,
   "metadata": {
    "collapsed": false,
    "slideshow": {
     "slide_type": "fragment"
    }
   },
   "outputs": [],
   "source": [
    "while running: \n",
    "    inputready, outputready, exceptready = select.select(input, output, exceptional) \n",
    "\n",
    "    for s in inputready: \n",
    "\n",
    "        if s == server: \n",
    "            # handle the server socket \n",
    "            client, address = server.accept() \n",
    "            input.append(client) \n",
    "\n",
    "        elif s == sys.stdin: \n",
    "            # handle standard input \n",
    "            junk = sys.stdin.readline() \n",
    "            running = 0 \n",
    "\n",
    "        else: \n",
    "            # handle all other sockets \n",
    "            data = s.recv(size) \n",
    "            if data: \n",
    "                s.send(data) \n",
    "            else: \n",
    "                s.close() \n",
    "                input.remove(s)\n",
    "    \n",
    "    for s in output:\n",
    "        \n",
    "        if s == client:\n",
    "            # handle the client socket\n",
    "            \n",
    "        ##############################################\n",
    "        ############### HERE BE DRAGONS ##############\n",
    "        ##############################################\n",
    "        \n",
    "server.close()"
   ]
  },
  {
   "cell_type": "markdown",
   "metadata": {
    "slideshow": {
     "slide_type": "slide"
    }
   },
   "source": [
    "# Using `select`\n",
    "\n",
    "* `select` needs to be a sink in our code\n",
    "* Lots of `if`s or callbacks\n",
    "* Non-serial code (can't follow a single socket's handling)\n",
    "* Hard to debug\n",
    "* Looks like \\*\\*\\*\\*"
   ]
  },
  {
   "cell_type": "markdown",
   "metadata": {
    "slideshow": {
     "slide_type": "slide"
    }
   },
   "source": [
    "# Promises, Futures and Waitconds\n",
    "\n",
    "* Abstraction layer for non-blocking I/O operations\n",
    "* Allows for higher level methods - `done()`, `result()`, etc. \n",
    "* We'll use the term 'future'\n",
    "\n",
    "**Pseudo-code**:"
   ]
  },
  {
   "cell_type": "code",
   "execution_count": null,
   "metadata": {
    "collapsed": true,
    "slideshow": {
     "slide_type": "fragment"
    }
   },
   "outputs": [],
   "source": [
    "server_future = future_write(server_socket, callback=write_to_server, args=(server_socket,))\n",
    "client_future = future_read(client_socket, callback=read_from_client, args=(client_socket,))\n",
    "\n",
    "satisfied_server = wait_for([server_future, client_future])\n",
    "satisified_server.callback(satisfied_server.args)"
   ]
  },
  {
   "cell_type": "markdown",
   "metadata": {
    "slideshow": {
     "slide_type": "slide"
    }
   },
   "source": [
    "# Goal\n",
    "\n",
    "\n",
    "## Execute multiple I/O operations in the same thread *with serial-looking code*"
   ]
  },
  {
   "cell_type": "code",
   "execution_count": null,
   "metadata": {
    "collapsed": true
   },
   "outputs": [],
   "source": []
  }
 ],
 "metadata": {
  "celltoolbar": "Slideshow",
  "kernelspec": {
   "display_name": "Python 3",
   "language": "python",
   "name": "python3"
  },
  "language_info": {
   "codemirror_mode": {
    "name": "ipython",
    "version": 3
   },
   "file_extension": ".py",
   "mimetype": "text/x-python",
   "name": "python",
   "nbconvert_exporter": "python",
   "pygments_lexer": "ipython3",
   "version": "3.4.3"
  }
 },
 "nbformat": 4,
 "nbformat_minor": 0
}
