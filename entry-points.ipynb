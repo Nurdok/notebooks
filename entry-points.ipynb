{
 "cells": [
  {
   "cell_type": "markdown",
   "metadata": {},
   "source": [
    "# Python Entry Points \n",
    "\n",
    "## Problem 1: Snek"
   ]
  },
  {
   "cell_type": "code",
   "execution_count": 3,
   "metadata": {
    "scrolled": true
   },
   "outputs": [
    {
     "name": "stdout",
     "output_type": "stream",
     "text": [
      "Overwriting snek.py\n"
     ]
    }
   ],
   "source": [
    "%%writefile snek.py\n",
    "\n",
    "ascii_snek = \"\"\"\\\n",
    "    --..,_                     _,.--.\n",
    "       `'.'.                .'`__ o  `;__.\n",
    "          '.'.            .'.'`  '---'`  `\n",
    "            '.`'--....--'`.'\n",
    "              `'--....--'`\n",
    "\"\"\"\n",
    "\n",
    "def main():\n",
    "    print(ascii_snek)\n",
    "    \n",
    "if __name__ == '__main__':\n",
    "    main()"
   ]
  },
  {
   "cell_type": "code",
   "execution_count": null,
   "metadata": {},
   "outputs": [],
   "source": [
    "%%bash\n",
    "python snek.py"
   ]
  },
  {
   "cell_type": "markdown",
   "metadata": {},
   "source": [
    "## Problem 2: SaaS - Snek as a Service"
   ]
  },
  {
   "cell_type": "code",
   "execution_count": null,
   "metadata": {},
   "outputs": [],
   "source": [
    "%%writefile setup.py\n",
    "\n",
    "from setuptools import setup\n",
    "\n",
    "setup(\n",
    "    name='snek',\n",
    "    entry_points={\n",
    "        'console_scripts': [\n",
    "            'snek = snek:main',\n",
    "        ],\n",
    "    }\n",
    ")"
   ]
  },
  {
   "cell_type": "code",
   "execution_count": null,
   "metadata": {},
   "outputs": [],
   "source": [
    "%%bash\n",
    "\n",
    "python setup.py develop"
   ]
  },
  {
   "cell_type": "code",
   "execution_count": null,
   "metadata": {},
   "outputs": [],
   "source": [
    "%%bash\n",
    "\n",
    "snek"
   ]
  },
  {
   "cell_type": "markdown",
   "metadata": {},
   "source": [
    "## Problem 3: Snek for Everyone"
   ]
  },
  {
   "cell_type": "code",
   "execution_count": 14,
   "metadata": {},
   "outputs": [
    {
     "name": "stdout",
     "output_type": "stream",
     "text": [
      "Overwriting snek.py\n"
     ]
    }
   ],
   "source": [
    "%%writefile snek.py\n",
    "\"\"\"Print an ASCII Snek.\n",
    "\n",
    "Usage:\n",
    "    snek [--type=TYPE]\n",
    "    \n",
    "\"\"\"\n",
    "import docopt\n",
    "\n",
    "normal_snek = \"\"\"\\\n",
    "    --..,_                     _,.--.\n",
    "       `'.'.                .'`__ o  `;__.\n",
    "          '.'.            .'.'`  '---'`  `\n",
    "            '.`'--....--'`.'\n",
    "              `'--....--'`\n",
    "\"\"\"\n",
    "\n",
    "fancy_snek = \"\"\"\\\n",
    "                          _,..,,,_\n",
    "                     '``````^~\"-,_`\"-,_\n",
    "       .-~c~-.                    `~:. ^-.\n",
    "   `~~~-.c    ;                      `:.  `-,     _.-~~^^~:.\n",
    "         `.   ;      _,--~~~~-._       `:.   ~. .~          `.\n",
    "          .` ;'   .:`           `:       `:.   `    _.:-,.    `.\n",
    "        .' .:   :'    _.-~^~-.    `.       `..'   .:      `.    '\n",
    "       :  .' _:'   .-'        `.    :.     .:   .'`.        :    ;\n",
    "       :  `-'   .:'             `.    `^~~^`   .:.  `.      ;    ;\n",
    "        `-.__,-~                  ~-.        ,' ':    '.__.`    :'\n",
    "                                     ~--..--'     ':.         .:'\n",
    "                                                     ':..___.:'\n",
    "\"\"\"\n",
    "\n",
    "def get_sneks():\n",
    "    return {\n",
    "        'normal': normal_snek,\n",
    "        'fancy': fancy_snek,\n",
    "    }\n",
    "\n",
    "\n",
    "def main():\n",
    "    args = docopt.docopt(__doc__)\n",
    "    snek_type = args['--type'] or 'normal'\n",
    "    print(get_sneks()[snek_type])\n",
    "    \n",
    "if __name__ == '__main__':\n",
    "    main()"
   ]
  },
  {
   "cell_type": "code",
   "execution_count": 15,
   "metadata": {},
   "outputs": [
    {
     "name": "stdout",
     "output_type": "stream",
     "text": [
      "    --..,_                     _,.--.\r\n",
      "       `'.'.                .'`__ o  `;__.\r\n",
      "          '.'.            .'.'`  '---'`  `\r\n",
      "            '.`'--....--'`.'\r\n",
      "              `'--....--'`\r\n",
      "\r\n"
     ]
    }
   ],
   "source": [
    "%%bash\n",
    "\n",
    "snek"
   ]
  },
  {
   "cell_type": "code",
   "execution_count": 16,
   "metadata": {},
   "outputs": [
    {
     "name": "stdout",
     "output_type": "stream",
     "text": [
      "                          _,..,,,_\r\n",
      "                     '``````^~\"-,_`\"-,_\r\n",
      "       .-~c~-.                    `~:. ^-.\r\n",
      "   `~~~-.c    ;                      `:.  `-,     _.-~~^^~:.\r\n",
      "         `.   ;      _,--~~~~-._       `:.   ~. .~          `.\r\n",
      "          .` ;'   .:`           `:       `:.   `    _.:-,.    `.\r\n",
      "        .' .:   :'    _.-~^~-.    `.       `..'   .:      `.    '\r\n",
      "       :  .' _:'   .-'        `.    :.     .:   .'`.        :    ;\r\n",
      "       :  `-'   .:'             `.    `^~~^`   .:.  `.      ;    ;\r\n",
      "        `-.__,-~                  ~-.        ,' ':    '.__.`    :'\r\n",
      "                                     ~--..--'     ':.         .:'\r\n",
      "                                                     ':..___.:'\r\n",
      "\r\n"
     ]
    }
   ],
   "source": [
    "%%bash\n",
    "\n",
    "snek --type fancy"
   ]
  },
  {
   "cell_type": "markdown",
   "metadata": {},
   "source": [
    "# Problem 4: Snek Community"
   ]
  },
  {
   "cell_type": "code",
   "execution_count": 60,
   "metadata": {},
   "outputs": [
    {
     "name": "stdout",
     "output_type": "stream",
     "text": [
      "Overwriting snek.py\n"
     ]
    }
   ],
   "source": [
    "%%writefile snek.py\n",
    "\"\"\"Print an ASCII Snek.\n",
    "\n",
    "Usage:\n",
    "    snek [--type=TYPE]\n",
    "    \n",
    "\"\"\"\n",
    "import docopt\n",
    "import pkg_resources\n",
    "\n",
    "normal_snek = \"\"\"\\\n",
    "    --..,_                     _,.--.\n",
    "       `'.'.                .'`__ o  `;__.\n",
    "          '.'.            .'.'`  '---'`  `\n",
    "            '.`'--....--'`.'\n",
    "              `'--....--'`\n",
    "\"\"\"\n",
    "\n",
    "fancy_snek = \"\"\"\\\n",
    "                          _,..,,,_\n",
    "                     '``````^~\"-,_`\"-,_\n",
    "       .-~c~-.                    `~:. ^-.\n",
    "   `~~~-.c    ;                      `:.  `-,     _.-~~^^~:.\n",
    "         `.   ;      _,--~~~~-._       `:.   ~. .~          `.\n",
    "          .` ;'   .:`           `:       `:.   `    _.:-,.    `.\n",
    "        .' .:   :'    _.-~^~-.    `.       `..'   .:      `.    '\n",
    "       :  .' _:'   .-'        `.    :.     .:   .'`.        :    ;\n",
    "       :  `-'   .:'             `.    `^~~^`   .:.  `.      ;    ;\n",
    "        `-.__,-~                  ~-.        ,' ':    '.__.`    :'\n",
    "                                     ~--..--'     ':.         .:'\n",
    "                                                     ':..___.:'\n",
    "\"\"\"\n",
    "\n",
    "def get_sneks():\n",
    "    sneks = {\n",
    "        'normal': normal_snek,\n",
    "        'fancy': fancy_snek,\n",
    "    }\n",
    "    for entry_point in pkg_resources.iter_entry_points('snek_types'):\n",
    "        sneks[entry_point.name] = entry_point.load()\n",
    "    return sneks\n",
    "\n",
    "\n",
    "def main():\n",
    "    args = docopt.docopt(__doc__)\n",
    "    snek_type = args['--type'] or 'normal'\n",
    "    print(get_sneks()[snek_type])\n",
    "    \n",
    "if __name__ == '__main__':\n",
    "    main()"
   ]
  },
  {
   "cell_type": "code",
   "execution_count": 20,
   "metadata": {},
   "outputs": [
    {
     "name": "stdout",
     "output_type": "stream",
     "text": [
      "    --..,_                     _,.--.\r\n",
      "       `'.'.                .'`__ o  `;__.\r\n",
      "          '.'.            .'.'`  '---'`  `\r\n",
      "            '.`'--....--'`.'\r\n",
      "              `'--....--'`\r\n",
      "\r\n"
     ]
    }
   ],
   "source": [
    "%%bash\n",
    "\n",
    "snek"
   ]
  },
  {
   "cell_type": "code",
   "execution_count": 21,
   "metadata": {},
   "outputs": [
    {
     "name": "stdout",
     "output_type": "stream",
     "text": [
      "                          _,..,,,_\r\n",
      "                     '``````^~\"-,_`\"-,_\r\n",
      "       .-~c~-.                    `~:. ^-.\r\n",
      "   `~~~-.c    ;                      `:.  `-,     _.-~~^^~:.\r\n",
      "         `.   ;      _,--~~~~-._       `:.   ~. .~          `.\r\n",
      "          .` ;'   .:`           `:       `:.   `    _.:-,.    `.\r\n",
      "        .' .:   :'    _.-~^~-.    `.       `..'   .:      `.    '\r\n",
      "       :  .' _:'   .-'        `.    :.     .:   .'`.        :    ;\r\n",
      "       :  `-'   .:'             `.    `^~~^`   .:.  `.      ;    ;\r\n",
      "        `-.__,-~                  ~-.        ,' ':    '.__.`    :'\r\n",
      "                                     ~--..--'     ':.         .:'\r\n",
      "                                                     ':..___.:'\r\n",
      "\r\n"
     ]
    }
   ],
   "source": [
    "%%bash\n",
    "\n",
    "snek --type fancy"
   ]
  },
  {
   "cell_type": "code",
   "execution_count": 29,
   "metadata": {},
   "outputs": [],
   "source": [
    "%mkdir cute_snek"
   ]
  },
  {
   "cell_type": "code",
   "execution_count": 79,
   "metadata": {},
   "outputs": [
    {
     "name": "stdout",
     "output_type": "stream",
     "text": [
      "Overwriting cute_snek/cute_snek.py\n"
     ]
    }
   ],
   "source": [
    "%%writefile cute_snek/cute_snek.py\n",
    "\n",
    "cute_snek = r\"\"\"\n",
    "                    /^\\/^\\\n",
    "                  _|__|  O|\n",
    "         \\/     /~     \\_/ \\\n",
    "          \\____|__________/  \\\n",
    "                 \\_______      \\\n",
    "                         `\\     \\                 \\\n",
    "                           |     |                  \\\n",
    "                          /      /                    \\\n",
    "                         /     /                       \\\n",
    "                       /      /                         \\ \\\n",
    "                      /     /                            \\  \\\n",
    "                    /     /             _----_            \\   \\\n",
    "                   /     /           _-~      ~-_         |   |\n",
    "                  (      (        _-~    _--_    ~-_     _/   |\n",
    "                   \\      ~-____-~    _-~    ~-_    ~-_-~    /\n",
    "                     ~-_           _-~          ~-_       _-~ \n",
    "                        ~--______-~                ~-___-~\n",
    "\"\"\"\n"
   ]
  },
  {
   "cell_type": "code",
   "execution_count": 57,
   "metadata": {},
   "outputs": [
    {
     "name": "stdout",
     "output_type": "stream",
     "text": [
      "Overwriting cute_snek/setup.py\n"
     ]
    }
   ],
   "source": [
    "%%writefile cute_snek/setup.py\n",
    "\n",
    "from setuptools import setup\n",
    "\n",
    "setup(\n",
    "    name='cute_snek',\n",
    "    entry_points={\n",
    "        'snek_types': [\n",
    "            'cute = cute_snek:cute_snek',\n",
    "        ],\n",
    "    }\n",
    ")"
   ]
  },
  {
   "cell_type": "code",
   "execution_count": 58,
   "metadata": {},
   "outputs": [
    {
     "name": "stdout",
     "output_type": "stream",
     "text": [
      "running develop\r\n",
      "running egg_info\r\n",
      "writing cute_snek.egg-info\\PKG-INFO\r\n",
      "writing dependency_links to cute_snek.egg-info\\dependency_links.txt\r\n",
      "writing entry points to cute_snek.egg-info\\entry_points.txt\r\n",
      "writing top-level names to cute_snek.egg-info\\top_level.txt\r\n",
      "reading manifest file 'cute_snek.egg-info\\SOURCES.txt'\r\n",
      "writing manifest file 'cute_snek.egg-info\\SOURCES.txt'\r\n",
      "running build_ext\r\n",
      "Creating c:\\program files (x86)\\py36-32\\lib\\site-packages\\cute-snek.egg-link (link to .)\r\n",
      "cute-snek 0.0.0 is already the active version in easy-install.pth\r\n",
      "\r\n",
      "Installed c:\\users\\rachum\\dropbox\\development\\notebooks\\cute_snek\r\n",
      "Processing dependencies for cute-snek==0.0.0\r\n",
      "Finished processing dependencies for cute-snek==0.0.0\r\n"
     ]
    }
   ],
   "source": [
    "%%bash\n",
    "\n",
    "cd cute_snek && python setup.py develop\n"
   ]
  },
  {
   "cell_type": "code",
   "execution_count": 80,
   "metadata": {},
   "outputs": [
    {
     "name": "stdout",
     "output_type": "stream",
     "text": [
      "\r\n",
      "                    /^\\/^\\\r\n",
      "                  _|__|  O|\r\n",
      "         \\/     /~     \\_/ \\\r\n",
      "          \\____|__________/  \\\r\n",
      "                 \\_______      \\\r\n",
      "                         `\\     \\                 \\\r\n",
      "                           |     |                  \\\r\n",
      "                          /      /                    \\\r\n",
      "                         /     /                       \\\r\n",
      "                       /      /                         \\ \\\r\n",
      "                      /     /                            \\  \\\r\n",
      "                    /     /             _----_            \\   \\\r\n",
      "                   /     /           _-~      ~-_         |   |\r\n",
      "                  (      (        _-~    _--_    ~-_     _/   |\r\n",
      "                   \\      ~-____-~    _-~    ~-_    ~-_-~    /\r\n",
      "                     ~-_           _-~          ~-_       _-~ \r\n",
      "                        ~--______-~                ~-___-~\r\n",
      "\r\n"
     ]
    }
   ],
   "source": [
    "%%bash\n",
    "\n",
    "snek --type cute"
   ]
  },
  {
   "cell_type": "markdown",
   "metadata": {},
   "source": [
    "# Problem 5: DRY"
   ]
  },
  {
   "cell_type": "code",
   "execution_count": 84,
   "metadata": {},
   "outputs": [
    {
     "name": "stdout",
     "output_type": "stream",
     "text": [
      "Overwriting snek.py\n"
     ]
    }
   ],
   "source": [
    "%%writefile snek.py\n",
    "\"\"\"Print an ASCII Snek.\n",
    "\n",
    "Usage:\n",
    "    snek [--type=TYPE]\n",
    "    \n",
    "\"\"\"\n",
    "import docopt\n",
    "import pkg_resources\n",
    "\n",
    "normal_snek = \"\"\"\\\n",
    "    --..,_                     _,.--.\n",
    "       `'.'.                .'`__ o  `;__.\n",
    "          '.'.            .'.'`  '---'`  `\n",
    "            '.`'--....--'`.'\n",
    "              `'--....--'`\n",
    "\"\"\"\n",
    "\n",
    "fancy_snek = \"\"\"\\\n",
    "                          _,..,,,_\n",
    "                     '``````^~\"-,_`\"-,_\n",
    "       .-~c~-.                    `~:. ^-.\n",
    "   `~~~-.c    ;                      `:.  `-,     _.-~~^^~:.\n",
    "         `.   ;      _,--~~~~-._       `:.   ~. .~          `.\n",
    "          .` ;'   .:`           `:       `:.   `    _.:-,.    `.\n",
    "        .' .:   :'    _.-~^~-.    `.       `..'   .:      `.    '\n",
    "       :  .' _:'   .-'        `.    :.     .:   .'`.        :    ;\n",
    "       :  `-'   .:'             `.    `^~~^`   .:.  `.      ;    ;\n",
    "        `-.__,-~                  ~-.        ,' ':    '.__.`    :'\n",
    "                                     ~--..--'     ':.         .:'\n",
    "                                                     ':..___.:'\n",
    "\"\"\"\n",
    "\n",
    "def get_sneks():\n",
    "    ######## REMOVED THIS:\n",
    "    #sneks = {\n",
    "    #   'normal': normal_snek,\n",
    "    #   'fancy': fancy_snek,\n",
    "    #}\n",
    "    sneks = {}\n",
    "    for entry_point in pkg_resources.iter_entry_points('snek_types'):\n",
    "        sneks[entry_point.name] = entry_point.load()\n",
    "    return sneks\n",
    "\n",
    "\n",
    "def main():\n",
    "    args = docopt.docopt(__doc__)\n",
    "    snek_type = args['--type'] or 'normal'\n",
    "    print(get_sneks()[snek_type])\n",
    "    \n",
    "if __name__ == '__main__':\n",
    "    main()"
   ]
  },
  {
   "cell_type": "code",
   "execution_count": 86,
   "metadata": {},
   "outputs": [
    {
     "name": "stdout",
     "output_type": "stream",
     "text": [
      "Overwriting setup.py\n"
     ]
    }
   ],
   "source": [
    "%%writefile setup.py\n",
    "\n",
    "from setuptools import setup\n",
    "\n",
    "setup(\n",
    "    name='snek',\n",
    "    entry_points={\n",
    "        'console_scripts': [\n",
    "            'snek = snek:main',\n",
    "        ],\n",
    "        'snek_types': [\n",
    "            'normal = snek:normal_snek',\n",
    "            'fancy = snek:fancy_snek',\n",
    "        ]\n",
    "    }\n",
    ")"
   ]
  },
  {
   "cell_type": "code",
   "execution_count": 87,
   "metadata": {},
   "outputs": [
    {
     "name": "stdout",
     "output_type": "stream",
     "text": [
      "running develop\r\n",
      "running egg_info\r\n",
      "writing snek.egg-info\\PKG-INFO\r\n",
      "writing dependency_links to snek.egg-info\\dependency_links.txt\r\n",
      "writing entry points to snek.egg-info\\entry_points.txt\r\n",
      "writing top-level names to snek.egg-info\\top_level.txt\r\n",
      "reading manifest file 'snek.egg-info\\SOURCES.txt'\r\n",
      "writing manifest file 'snek.egg-info\\SOURCES.txt'\r\n",
      "running build_ext\r\n",
      "Creating c:\\program files (x86)\\py36-32\\lib\\site-packages\\snek.egg-link (link to .)\r\n",
      "snek 0.0.0 is already the active version in easy-install.pth\r\n",
      "Installing snek-script.py script to C:\\Program Files (x86)\\Py36-32\\Scripts\r\n",
      "Installing snek.exe script to C:\\Program Files (x86)\\Py36-32\\Scripts\r\n",
      "Installing snek.exe.manifest script to C:\\Program Files (x86)\\Py36-32\\Scripts\r\n",
      "\r\n",
      "Installed c:\\users\\rachum\\dropbox\\development\\notebooks\r\n",
      "Processing dependencies for snek==0.0.0\r\n",
      "Finished processing dependencies for snek==0.0.0\r\n"
     ]
    }
   ],
   "source": [
    "%%bash\n",
    "\n",
    "python setup.py develop"
   ]
  },
  {
   "cell_type": "code",
   "execution_count": 88,
   "metadata": {},
   "outputs": [
    {
     "name": "stdout",
     "output_type": "stream",
     "text": [
      "    --..,_                     _,.--.\r\n",
      "       `'.'.                .'`__ o  `;__.\r\n",
      "          '.'.            .'.'`  '---'`  `\r\n",
      "            '.`'--....--'`.'\r\n",
      "              `'--....--'`\r\n",
      "\r\n"
     ]
    }
   ],
   "source": [
    "%%bash\n",
    "\n",
    "snek"
   ]
  },
  {
   "cell_type": "code",
   "execution_count": 90,
   "metadata": {},
   "outputs": [
    {
     "name": "stdout",
     "output_type": "stream",
     "text": [
      "                          _,..,,,_\r\n",
      "                     '``````^~\"-,_`\"-,_\r\n",
      "       .-~c~-.                    `~:. ^-.\r\n",
      "   `~~~-.c    ;                      `:.  `-,     _.-~~^^~:.\r\n",
      "         `.   ;      _,--~~~~-._       `:.   ~. .~          `.\r\n",
      "          .` ;'   .:`           `:       `:.   `    _.:-,.    `.\r\n",
      "        .' .:   :'    _.-~^~-.    `.       `..'   .:      `.    '\r\n",
      "       :  .' _:'   .-'        `.    :.     .:   .'`.        :    ;\r\n",
      "       :  `-'   .:'             `.    `^~~^`   .:.  `.      ;    ;\r\n",
      "        `-.__,-~                  ~-.        ,' ':    '.__.`    :'\r\n",
      "                                     ~--..--'     ':.         .:'\r\n",
      "                                                     ':..___.:'\r\n",
      "\r\n"
     ]
    }
   ],
   "source": [
    "%%bash\n",
    "\n",
    "snek --type fancy"
   ]
  },
  {
   "cell_type": "code",
   "execution_count": 91,
   "metadata": {
    "scrolled": true
   },
   "outputs": [
    {
     "name": "stdout",
     "output_type": "stream",
     "text": [
      "\r\n",
      "                    /^\\/^\\\r\n",
      "                  _|__|  O|\r\n",
      "         \\/     /~     \\_/ \\\r\n",
      "          \\____|__________/  \\\r\n",
      "                 \\_______      \\\r\n",
      "                         `\\     \\                 \\\r\n",
      "                           |     |                  \\\r\n",
      "                          /      /                    \\\r\n",
      "                         /     /                       \\\r\n",
      "                       /      /                         \\ \\\r\n",
      "                      /     /                            \\  \\\r\n",
      "                    /     /             _----_            \\   \\\r\n",
      "                   /     /           _-~      ~-_         |   |\r\n",
      "                  (      (        _-~    _--_    ~-_     _/   |\r\n",
      "                   \\      ~-____-~    _-~    ~-_    ~-_-~    /\r\n",
      "                     ~-_           _-~          ~-_       _-~ \r\n",
      "                        ~--______-~                ~-___-~\r\n",
      "\r\n"
     ]
    }
   ],
   "source": [
    "%%bash\n",
    "\n",
    "snek --type cute"
   ]
  },
  {
   "cell_type": "markdown",
   "metadata": {},
   "source": [
    "![](math.png)"
   ]
  }
 ],
 "metadata": {
  "kernelspec": {
   "display_name": "Python 3",
   "language": "python",
   "name": "python3"
  },
  "language_info": {
   "codemirror_mode": {
    "name": "ipython",
    "version": 3
   },
   "file_extension": ".py",
   "mimetype": "text/x-python",
   "name": "python",
   "nbconvert_exporter": "python",
   "pygments_lexer": "ipython3",
   "version": "3.6.1"
  }
 },
 "nbformat": 4,
 "nbformat_minor": 2
}
